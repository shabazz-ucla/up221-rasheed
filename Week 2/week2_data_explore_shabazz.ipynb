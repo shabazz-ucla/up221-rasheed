{
 "cells": [
  {
   "cell_type": "markdown",
   "id": "a7672f36-8621-414d-8408-e2c52f3c5540",
   "metadata": {},
   "source": [
    "# Week 2 Data exploration\n",
    "## Rasheed Shabazz\n",
    "\n",
    "The purpose of this assignment is to work with GIS data."
   ]
  },
  {
   "cell_type": "code",
   "execution_count": 1,
   "id": "2bb7aa76-5149-4236-bcb4-f84a7f147b7f",
   "metadata": {},
   "outputs": [
    {
     "name": "stdout",
     "output_type": "stream",
     "text": [
      "upload to GitHub\n"
     ]
    }
   ],
   "source": [
    "#printing demonstration to upload notebook to Github\n",
    "print('upload to GitHub')"
   ]
  }
 ],
 "metadata": {
  "kernelspec": {
   "display_name": "Python 3 (ipykernel)",
   "language": "python",
   "name": "python3"
  },
  "language_info": {
   "codemirror_mode": {
    "name": "ipython",
    "version": 3
   },
   "file_extension": ".py",
   "mimetype": "text/x-python",
   "name": "python",
   "nbconvert_exporter": "python",
   "pygments_lexer": "ipython3",
   "version": "3.11.9"
  }
 },
 "nbformat": 4,
 "nbformat_minor": 5
}
